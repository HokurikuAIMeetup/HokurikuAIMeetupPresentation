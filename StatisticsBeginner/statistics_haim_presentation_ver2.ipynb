{
 "cells": [
  {
   "cell_type": "markdown",
   "metadata": {},
   "source": [
    "# データ分析に役立つ「仮説の検定」超入門\n",
    "\n",
    "データ分析に役立つ手法である、「仮説の検定」について勉強します。\n",
    "\n",
    "参考文献：\n",
    "\n",
    "[1]石村園子, やさしく学べる統計学. 東京: 共立出版, 2006. <br>\n",
    "[2]統計WEB － 統計学、調べる、学べる、BellCurve（ベルカーブ）. bellcurve.jp/statistics/\n"
   ]
  },
  {
   "cell_type": "markdown",
   "metadata": {},
   "source": [
    "## 日本人男性の2007年の平均身長は1950年と比べて伸びているかどうかを検証\n",
    "\n",
    "https://ai-trend.jp/basic-study/normal-distribution/example/ を参考に、身長の分布はほぼ正規分布に従うものとして扱う。\n",
    "\n",
    "http://www.natubunko.net/rekishi05.html　を参考に、データは乱数で生成"
   ]
  },
  {
   "cell_type": "code",
   "execution_count": 1,
   "metadata": {},
   "outputs": [
    {
     "name": "stdout",
     "output_type": "stream",
     "text": [
      "Requirement already satisfied: numpy in /Users/kaim/anaconda3/envs/HAIM-Presentation-statistics/lib/python3.6/site-packages (1.19.2)\r\n"
     ]
    }
   ],
   "source": [
    "!pip install numpy"
   ]
  },
  {
   "cell_type": "code",
   "execution_count": 2,
   "metadata": {},
   "outputs": [],
   "source": [
    "%config IPCompleter.greedy=True\n",
    "import math\n",
    "import random\n",
    "import numpy as np"
   ]
  },
  {
   "cell_type": "markdown",
   "metadata": {},
   "source": [
    "## 母平均の検定を行う\n",
    "\n",
    "架空の身長のデータを生成し、データを分析する。\n",
    "1950年も、2007年も身長のばらつき具合（分散）は等しいものと仮定する。（実際には... (´ε｀；)）\n"
   ]
  },
  {
   "cell_type": "code",
   "execution_count": 3,
   "metadata": {},
   "outputs": [],
   "source": [
    "random_range=30\n",
    "height_1950 = [161.5 - (random_range/2) + random.random()*random_range  for _ in range(0,30)]\n",
    "random_range=30\n",
    "height_2007 = [173.3 - (random_range/2) + random.random()*random_range  for _ in range(0,30)]"
   ]
  },
  {
   "cell_type": "code",
   "execution_count": 4,
   "metadata": {},
   "outputs": [
    {
     "name": "stdout",
     "output_type": "stream",
     "text": [
      "161.24029757914224\n",
      "173.8686968360577\n"
     ]
    }
   ],
   "source": [
    "height_1950\n",
    "np_height_1950 = np.array(height_1950)\n",
    "np_height_2007 = np.array(height_2007)\n",
    "print(np.array(height_1950).mean())\n",
    "print(np.array(height_2007).mean())"
   ]
  },
  {
   "cell_type": "markdown",
   "metadata": {},
   "source": [
    "# 「1950年代の人の身長は170cmである」かどうかを検定\n",
    "\n",
    "「母平均の検定」をやってみる"
   ]
  },
  {
   "cell_type": "markdown",
   "metadata": {},
   "source": [
    "不偏分散を求める。\n",
    "\n",
    "$$\n",
    "s^2 = \\frac{1}{n - 1} \\sum_{i = 1}^n {(x_i - \\overline{x})^2}\n",
    "$$"
   ]
  },
  {
   "cell_type": "code",
   "execution_count": 5,
   "metadata": {},
   "outputs": [],
   "source": [
    "def calc_unbiased_estimate_of_variance(dataset,mean,sample_size):\n",
    "    diff_sample_to_mean = [(x - mean) for x in dataset]\n",
    "    \n",
    "    return sum(list(map(lambda x: x ** 2, diff_sample_to_mean))) / (sample_size - 1)"
   ]
  },
  {
   "cell_type": "markdown",
   "metadata": {},
   "source": [
    "## 統計量t  (t値)を求める\n",
    "$$\n",
    "t=\\frac{\\bar{x}-\\mu}{\\sqrt{\\frac{s^{2}}{n}}}\n",
    "$$\n",
    "\n",
    "式については https://bellcurve.jp/statistics/course/9317.html の2.を参照しました。\n",
    "\n",
    "## 注意\n",
    "\n",
    "t検定は、母集団の分散が等しいと思われる場合でしか使えないので、注意しましょう。（等分散性の検定という手法もあるので、そちらも調べるのも良いかもと思います）"
   ]
  },
  {
   "cell_type": "code",
   "execution_count": 6,
   "metadata": {},
   "outputs": [],
   "source": [
    "#統計量t(t値)を求める\n",
    "\n",
    "def calc_t_value(dataset, examine_height):\n",
    "    sample_size = len(dataset)\n",
    "    mean = sum(dataset) / sample_size\n",
    "    sample_variance  = calc_unbiased_estimate_of_variance(dataset,mean,sample_size)\n",
    "    t = (mean - examine_height)  / math.sqrt(sample_variance / sample_size)\n",
    "    \n",
    "    return t"
   ]
  },
  {
   "cell_type": "code",
   "execution_count": 7,
   "metadata": {},
   "outputs": [
    {
     "name": "stdout",
     "output_type": "stream",
     "text": [
      "-5.0932403981180245\n",
      "自由度は30-1=29\n",
      "自由度29で、（0.1　÷ 2 )= 0.05%の場合、数表は1.699を示す\n",
      "-4.22は t<-1.699, 1.699<t までの値の範囲（棄却域）にあるので、1950年代の平均身長は170cmであるという仮説は棄却される\n"
     ]
    }
   ],
   "source": [
    "print(calc_t_value(height_1950, 170))\n",
    "print(\"自由度は\"+str(len(height_1950))+\"-1=\"+str(len(height_1950)-1))\n",
    "print(\"自由度29で、（0.1　÷ 2 )= 0.05%の場合、数表は1.699を示す\")\n",
    "print(\"-4.22は t<-1.699, 1.699<t までの値の範囲（棄却域）にあるので、1950年代の平均身長は170cmであるという仮説は棄却される\")"
   ]
  },
  {
   "cell_type": "markdown",
   "metadata": {},
   "source": [
    "## 結論\n",
    "\n",
    "1950年代の人の身長は170cmでない"
   ]
  },
  {
   "cell_type": "markdown",
   "metadata": {},
   "source": [
    "## Tips 数表の見方のコツ\n",
    "\n",
    "（メモ：　https://bellcurve.jp/statistics/course/8970.html を参照しながら、説明する）\n",
    "\n",
    "αの値が大きいと、0付近の小さなt値（棄却域）でも十分棄却できることが証明できる。標本数が増えれば増えるほど、小さな値のt値（棄却域）でも十分棄却できることが証明できる。\n",
    "\n",
    "αの値が小さいと（、つまり調査結果が偶然こうなったと言える確率が限りなく小さい場合は）、より大きなt値の場合のみ棄却できるよう、厳格に棄却域を設けなくてはならない。また、標本数が少ない時もより大きなt値のみ棄却できるよう、厳格に棄却域を決めないといけない（偶然一サンプルだけ外れ値だったとしても、全体のサンプル数が少ないため普通に計算すると大きく影響を受けてしまう）\n",
    "\n"
   ]
  },
  {
   "cell_type": "markdown",
   "metadata": {},
   "source": [
    "# 2つの集団に有意な差があるか調べる「母平均の差の検定」\n",
    "\n",
    "同じ時期に能登半島の西側で取れる魚の大きさと、東側で採れる魚の大きさの平均に差があるかどうか検定する <br><br>\n",
    "※データは完全にデタラメです。あくまでチュートリアルです。 <br>\n",
    "※何の魚なんでしょうか...?"
   ]
  },
  {
   "cell_type": "code",
   "execution_count": 8,
   "metadata": {},
   "outputs": [
    {
     "name": "stdout",
     "output_type": "stream",
     "text": [
      "今回は東側で調べた魚の数が8匹、西側が9匹だとする。\n",
      "\n",
      "[27.452673045017345, 24.8779310416039, 23.388867720431744, 26.488527679376837, 24.04132031509798, 24.694861004176342, 26.40697356000186, 25.53518539449822]\n",
      "[23.45364398975521, 24.57717914624512, 23.920309686858484, 27.39817160777781, 25.36994285844903, 25.026116291543428, 27.232108306490968, 25.722677851172403, 26.44089091358322]\n"
     ]
    }
   ],
   "source": [
    "#　基本統計量を求める\n",
    "\n",
    "random_range=5.0\n",
    "size_east = [25.0 - (random_range/2) + random.random()*random_range  for _ in range(0,8)]\n",
    "size_west = [25.0 - (random_range/2) + random.random()*random_range  for _ in range(0,9)]\n",
    "\n",
    "print(\"今回は東側で調べた魚の数が8匹、西側が9匹だとする。\")\n",
    "print(\"\")\n",
    "print(size_east)\n",
    "print(size_west)"
   ]
  },
  {
   "cell_type": "code",
   "execution_count": 9,
   "metadata": {},
   "outputs": [],
   "source": [
    "#分散を求める。\n",
    "def calc_sample_variance(dataset):\n",
    "    sample_size = len(dataset)\n",
    "    mean = sum(dataset) / sample_size # 単純な平均を求める\n",
    "    dataset_squared = list(map(lambda x: x ** 2, dataset))\n",
    "    # (標本サンプルをそれぞれ2乗したものの和 - 標本数 x 平均^2) / (標本数 - 1)\n",
    "    sample_variance=(sum(dataset_squared)  - sample_size*mean**2)/(sample_size-1)\n",
    "    return sample_variance"
   ]
  },
  {
   "cell_type": "code",
   "execution_count": 10,
   "metadata": {},
   "outputs": [
    {
     "name": "stdout",
     "output_type": "stream",
     "text": [
      "標本分散1.8683960956462085\n",
      "標本分散1.9124840337386786\n"
     ]
    }
   ],
   "source": [
    "\n",
    "size_east_sam_var = calc_sample_variance(size_east)\n",
    "print(\"標本分散\"+str(size_east_sam_var))\n",
    "\n",
    "size_west_sam_var = calc_sample_variance(size_west)\n",
    "print(\"標本分散\"+str(size_west_sam_var))\n"
   ]
  },
  {
   "cell_type": "code",
   "execution_count": 11,
   "metadata": {},
   "outputs": [],
   "source": [
    "# 分散の平均を求める\n",
    "def calc_mean_variance(dataset_x, x_sample_var, dataset_y, y_sample_var):\n",
    "    sample_size_x = len(dataset_x)\n",
    "    sample_size_y = len(dataset_y)\n",
    "    \n",
    "    tmp = (sample_size_x - 1) * x_sample_var + (sample_size_y -1) * y_sample_var\n",
    "    mean_var = tmp / (sample_size_x + sample_size_y -2)\n",
    "    return mean_var"
   ]
  },
  {
   "cell_type": "code",
   "execution_count": null,
   "metadata": {},
   "outputs": [],
   "source": []
  },
  {
   "cell_type": "code",
   "execution_count": 12,
   "metadata": {},
   "outputs": [
    {
     "name": "stdout",
     "output_type": "stream",
     "text": [
      "分散の平均1.8919096626288592\n"
     ]
    }
   ],
   "source": [
    "\n",
    "size_mean_variance=calc_mean_variance(size_east, size_east_sam_var, size_west, size_west_sam_var)\n",
    "print(\"分散の平均\"+str(size_mean_variance))"
   ]
  },
  {
   "cell_type": "markdown",
   "metadata": {},
   "source": [
    "## 検定を実際に行う\n",
    "有意水準 \n",
    "\n",
    "$$\n",
    "\\alpha =0.01\n",
    "$$\n",
    "\n",
    "仮説H\n",
    "\n",
    "$$\n",
    "H_{0}:\\mu _{x}=\\mu _{y}\n",
    "$$\n",
    "\n",
    "対立仮説\n",
    "$$\n",
    "H_{1}:\\mu _{x}\\neq \\mu _{y}\n",
    "$$\n",
    "\n",
    "対立仮説は、「母平均は等しい」という仮説$H_{0}$を否定するもの\n",
    "\n",
    "（メモ：検定統計量Tとは何かを説明）"
   ]
  },
  {
   "cell_type": "code",
   "execution_count": 13,
   "metadata": {},
   "outputs": [],
   "source": [
    "# test_statisticとは、検定統計量のこと（t検定でいうt値のこと）\n",
    "def calc_test_statistic(dataset_x,dataset_y,mean_variance):\n",
    "    sample_size_x = len(dataset_x)\n",
    "    sample_size_y = len(dataset_y)\n",
    "    mean_x = sum(dataset_x) / len(dataset_x)\n",
    "    mean_y = sum(dataset_y) / len(dataset_y)\n",
    "    \n",
    "    return  (mean_x - mean_y) / math.sqrt((1/sample_size_x + 1/sample_size_y) * mean_variance)"
   ]
  },
  {
   "cell_type": "code",
   "execution_count": 16,
   "metadata": {},
   "outputs": [
    {
     "name": "stdout",
     "output_type": "stream",
     "text": [
      "t値：-0.14860797259144473\n"
     ]
    }
   ],
   "source": [
    "\n",
    "t_fish=calc_test_statistic(size_east, size_west, size_mean_variance)\n",
    "print(\"t値：\"+str(t_fish))\n",
    "\n"
   ]
  },
  {
   "cell_type": "markdown",
   "metadata": {},
   "source": [
    "## 棄却域に入るかどうかチェック（数表を参考にする）\n",
    "\n",
    "自由度が（8+9-2=）15かつ有意水準α=0.001だったので、\n",
    "両側検定のためα÷2=0.005の確率（面積）の棄却域を設ける。\n",
    "自由度15で0.005の確率の場合、tの値が2.947より大きかったり、\n",
    "（マイナス）-2.947より小さかった場合、対立仮説は棄却されない。\n",
    "\n",
    "\n",
    "## t値が棄却域に入らない場合の結論\n",
    "\n",
    "対立仮説である「二つの集団に差はない」が棄却されず、有意な差は無いという結論になった。\n",
    "能登半島の東側で取れる魚と西側で取れる魚の大きさに、有意な差はない。\n",
    "\n",
    "## t値が棄却域に入った場合の結論\n",
    "\n",
    "対立仮説である「二つの集団に差はない」が棄却され、有意な差はあるという結論になった。\n",
    "能登半島の東側で取れる魚と西側で取れる魚の大きさに、有意な差があった。"
   ]
  },
  {
   "cell_type": "markdown",
   "metadata": {},
   "source": [
    "## 最後にTips\n",
    "\n",
    "数式をLaTexで書くの、大変ですよね... 画像認識で数式をLaTexに変換してくれるサイトが二つほどあります！\n",
    "\n",
    "写真を読み込んで、数式に変換\n",
    "- http://haikara-city.com/2016/05/28/mathpix/\n",
    "- https://webdemo.myscript.com/views/math/index.html\n",
    "\n",
    "手書きの文字をLaTexの数式に変換\n",
    "- https://webdemo.myscript.com/views/math/index.html"
   ]
  },
  {
   "cell_type": "code",
   "execution_count": null,
   "metadata": {},
   "outputs": [],
   "source": []
  },
  {
   "cell_type": "code",
   "execution_count": null,
   "metadata": {},
   "outputs": [],
   "source": []
  },
  {
   "cell_type": "code",
   "execution_count": null,
   "metadata": {},
   "outputs": [],
   "source": []
  },
  {
   "cell_type": "code",
   "execution_count": null,
   "metadata": {},
   "outputs": [],
   "source": []
  },
  {
   "cell_type": "markdown",
   "metadata": {},
   "source": []
  },
  {
   "cell_type": "code",
   "execution_count": null,
   "metadata": {},
   "outputs": [],
   "source": []
  }
 ],
 "metadata": {
  "kernelspec": {
   "display_name": "Python (HAIM-Presentation-statistics)",
   "language": "python",
   "name": "haim-presentation-statistics"
  },
  "language_info": {
   "codemirror_mode": {
    "name": "ipython",
    "version": 3
   },
   "file_extension": ".py",
   "mimetype": "text/x-python",
   "name": "python",
   "nbconvert_exporter": "python",
   "pygments_lexer": "ipython3",
   "version": "3.6.12"
  }
 },
 "nbformat": 4,
 "nbformat_minor": 4
}
