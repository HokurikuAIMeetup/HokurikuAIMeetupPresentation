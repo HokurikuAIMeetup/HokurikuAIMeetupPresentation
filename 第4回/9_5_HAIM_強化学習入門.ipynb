{
  "nbformat": 4,
  "nbformat_minor": 0,
  "metadata": {
    "colab": {
      "name": "9/5 HAIM 強化学習入門",
      "provenance": [],
      "collapsed_sections": []
    },
    "kernelspec": {
      "name": "python3",
      "display_name": "Python 3"
    },
    "accelerator": "GPU"
  },
  "cells": [
    {
      "cell_type": "code",
      "metadata": {
        "id": "8-AxnvAVyzQQ",
        "cellView": "form",
        "colab": {
          "base_uri": "https://localhost:8080/",
          "height": 348
        },
        "outputId": "a5ced895-e81e-468b-a6cd-556ff5466f7b"
      },
      "source": [
        "#@title 環境構築\n",
        "#remove \" > /dev/null 2>&1\" ログの非表示\n",
        "!pip install gym pyvirtualdisplay > /dev/null 2>&1\n",
        "!apt-get install -y xvfb python-opengl ffmpeg > /dev/null 2>&1\n",
        "!apt-get update > /dev/null 2>&1\n",
        "!apt-get install cmake > /dev/null 2>&1\n",
        "!pip install --upgrade setuptools 2>&1\n",
        "!pip install ez_setup > /dev/null 2>&1\n",
        "!pip install gym[all] > /dev/null 2>&1\n",
        "!git clone  https://github.com/GaetanJUVIN/Deep_QLearning_CartPole.git 2>&1\n",
        "!cp /content/Deep_QLearning_CartPole/cartpole_weight.h5 /content/ 2>&1\n",
        "!apt-get install xvfb > /dev/null 2>&1\n",
        "# ライブラリのインポート\n",
        "import gym\n",
        "from gym import logger as gymlogger\n",
        "from gym.wrappers import Monitor\n",
        "gymlogger.set_level(40) #error only\n",
        "import tensorflow as tf\n",
        "import numpy as np\n",
        "import random\n",
        "import matplotlib\n",
        "import matplotlib.pyplot as plt\n",
        "%matplotlib inline\n",
        "import math\n",
        "import glob\n",
        "import io\n",
        "import base64\n",
        "from IPython.display import HTML\n",
        "from IPython import display as ipythondisplay\n",
        "from pyvirtualdisplay import Display\n",
        "display = Display(visible=0, size=(1400, 900))\n",
        "display.start()\n",
        "\n",
        "# openAi Gym のレンダリング結果をmp4として保存し表示する機能\n",
        "def show_video():\n",
        "  mp4list = glob.glob('video/*.mp4')\n",
        "  if len(mp4list) > 0:\n",
        "    mp4 = mp4list[0]\n",
        "    video = io.open(mp4, 'r+b').read()\n",
        "    encoded = base64.b64encode(video)\n",
        "    ipythondisplay.display(HTML(data='''<video alt=\"test\" autoplay \n",
        "                 controls style=\"height: 400px;\">\n",
        "                <source src=\"data:video/mp4;base64,{0}\" type=\"video/mp4\" />\n",
        "             </video>'''.format(encoded.decode('ascii'))))\n",
        "  else: \n",
        "    print(\"Could not find video\")\n",
        "    \n",
        "\n",
        "def wrap_env(env):\n",
        "  env = Monitor(env, './video', force=True)\n",
        "  return env"
      ],
      "execution_count": null,
      "outputs": [
        {
          "output_type": "stream",
          "text": [
            "Collecting setuptools\n",
            "\u001b[?25l  Downloading https://files.pythonhosted.org/packages/7d/53/cd47a7799c5e82de7e408fecd72266dcc6cd7be32629b6022d4d6d91a2fc/setuptools-50.2.0-py3-none-any.whl (784kB)\n",
            "\u001b[K     |████████████████████████████████| 788kB 2.8MB/s \n",
            "\u001b[31mERROR: datascience 0.10.6 has requirement folium==0.2.1, but you'll have folium 0.8.3 which is incompatible.\u001b[0m\n",
            "\u001b[?25hInstalling collected packages: setuptools\n",
            "  Found existing installation: setuptools 49.6.0\n",
            "    Uninstalling setuptools-49.6.0:\n",
            "      Successfully uninstalled setuptools-49.6.0\n",
            "Successfully installed setuptools-50.2.0\n"
          ],
          "name": "stdout"
        },
        {
          "output_type": "display_data",
          "data": {
            "application/vnd.colab-display-data+json": {
              "pip_warning": {
                "packages": [
                  "pkg_resources"
                ]
              }
            }
          },
          "metadata": {
            "tags": []
          }
        },
        {
          "output_type": "stream",
          "text": [
            "Cloning into 'Deep_QLearning_CartPole'...\n",
            "remote: Enumerating objects: 15, done.\u001b[K\n",
            "remote: Total 15 (delta 0), reused 0 (delta 0), pack-reused 15\u001b[K\n",
            "Unpacking objects: 100% (15/15), done.\n"
          ],
          "name": "stdout"
        }
      ]
    },
    {
      "cell_type": "markdown",
      "metadata": {
        "id": "qW1tXPyfShCS"
      },
      "source": [
        "#HAIM\n",
        "9月5日<br>\n",
        "<p><font size=\"7\" color=\"red\">強化学習入門</font></p>\n",
        "\n",
        "#自己紹介\n",
        "名前　山本大悟  \n",
        "仕事　富山県でsier  \n",
        "興味　機械学習  \n",
        "\n",
        "# このLTの流れ\n",
        "\n",
        "1. 強化学習の理論を簡単に説明\n",
        "2. openAI Gymを紹介\n",
        "3. openAI Gymを用いて強化学習のコードを動かす。\n"
      ]
    },
    {
      "cell_type": "markdown",
      "metadata": {
        "id": "uw4QIZHZkoYi"
      },
      "source": [
        "# 強化学習とは何か\n",
        "- 強化学習は最適な意思決定のルールを求めることを目的とする学問分野である。\n",
        "- 利用されている分野はゲームのAI(将棋、囲碁)、ピッキングロボ(商品を取り出して移動をするロボット)\n",
        "\n",
        "\n",
        "# 用語説明\n",
        "- エージェント：環境に対して行動を起こす学習者。強化学習では、このエージェントが環境に対して様々な試行を繰り返すことで行動を最適化していきます。\n",
        "- 環境：エージェントの行動に対して状態の更新と報酬の付与を行います。\n",
        "- 強化学習では、与えられた「環境」における価値を最大化するように「エージェント」を学習させます。\n",
        "- 状態(s_t)：環境が保持する環境の様子で、エージェントが起こす行動によって変化します。\n",
        "- 行動(a)：エージェントが、ある状態()のときに取ることができる行動のことです。\n",
        "- 報酬(r)：エージェントの行動に対する環境からの報酬です。\n",
        "\n",
        "# 仕組みは?\n",
        "- 強化学習はエージェントと環境の相互作用から学習を行う。\n",
        "- 将来にわたって得られる報酬の和を最大化することを目的としている。　\n",
        "\n",
        "<img src=\"https://gym.openai.com/assets/docs/aeloop-138c89d44114492fd02822303e6b4b07213010bb14ca5856d2d49d6b62d88e53.svg\" width=450px>\n",
        "\n",
        "\n"
      ]
    },
    {
      "cell_type": "markdown",
      "metadata": {
        "id": "XeyR7ycvIvEm"
      },
      "source": [
        "# OpenAIとGymについて\n",
        "\n",
        "# OpenAIとは[1]？\n",
        "- OpenAIはAIの研究を行う非営利団体である。AIの研究成果を自己利益のためではなく、人類全体のために活用することを目的としている。\n",
        "- OpenAIの研究成果は公開されている。主な成果物には文章を自動で生成する「GPT2」や画像を自動生成する「Image GPT」、後ほど紹介する「Gym」がある。\n",
        "\n",
        "## Image GPTでの画像生成例\n",
        "![](https://i.imgur.com/Y8tywQ6.png)\n",
        "\n",
        "## Gym とは[2][3]？\n",
        "- 強化学習のAIを開発評価するため環境を提供するプラットフォーム\n",
        "- Atari社のゲームのパックンマンやブロック崩し、スペースインベーダーなどのAIを開発できる。\n",
        "\n",
        "![](https://qiita-user-contents.imgix.net/https%3A%2F%2Fqiita-image-store.s3.ap-northeast-1.amazonaws.com%2F0%2F396969%2Fce95c737-755e-7174-b246-d3ea4a548a61.gif?ixlib=rb-1.2.2&auto=format&gif-q=60&q=75&s=c25dc0f1f33e4d46583b3941aed8b9ef)\n",
        "<img src=\"https://qiita-user-contents.imgix.net/https%3A%2F%2Fqiita-image-store.s3.amazonaws.com%2F0%2F3180%2F8c235a00-cd55-41a2-a605-a4a2e9b0240f.gif?ixlib=rb-1.2.2&auto=format&gif-q=60&q=75&w=1400&fit=max&s=d76ac9841e0127bfde116d347587820a\" width=150px>\n",
        "\n",
        "\n",
        "## 参考資料\n",
        "[1]https://openai.com/projects/  \n",
        "[2]https://qiita.com/shu223/items/a9cfe9107447b327b564  \n",
        "[3]https://gym.openai.com/envs/#atari"
      ]
    },
    {
      "cell_type": "code",
      "metadata": {
        "id": "YkSwQxbb11HE",
        "colab": {
          "base_uri": "https://localhost:8080/",
          "height": 421
        },
        "outputId": "f9b9b341-c8d6-4cf9-90f4-8d1b5f3c01c0"
      },
      "source": [
        "#@title Gymを動かしてみる！\n",
        "NAME = \"CartPole-v0\"#@param[\"MsPacman-v0\",\"Breakout-v0\",\"CartPole-v0\",\"CarRacing-v0\"]\n",
        "env = wrap_env(gym.make(NAME))\n",
        "observation = env.reset()\n",
        "while True:\n",
        "    env.render()\n",
        "    action = env.action_space.sample() \n",
        "    observation, reward, done, info = env.step(action) \n",
        "    if done: \n",
        "      break;\n",
        "env.close()\n",
        "show_video()"
      ],
      "execution_count": null,
      "outputs": [
        {
          "output_type": "display_data",
          "data": {
            "text/html": [
              "<video alt=\"test\" autoplay \n",
              "                 controls style=\"height: 400px;\">\n",
              "                <source src=\"data:video/mp4;base64,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\" type=\"video/mp4\" />\n",
              "             </video>"
            ],
            "text/plain": [
              "<IPython.core.display.HTML object>"
            ]
          },
          "metadata": {
            "tags": []
          }
        }
      ]
    },
    {
      "cell_type": "markdown",
      "metadata": {
        "id": "0geGLQCUr1Zk"
      },
      "source": [
        "# CartPoleを題材に強化学習を学ぶ\n",
        "\n",
        "## CartPole(倒立振り子課題)とは？\n",
        "CartPoleとは土台の上に回転軸を固定した棒を動かして、立てた棒が倒れないように土台を右、左に細かく動かして制御する課題である。イメージとしては、小学生のころ掃除の時間に手のひらの上にほうきを立てる遊びと似ている。[1]\n",
        "![](https://book.mynavi.jp/files/user/manatee/rensai/019_kyoukagakusyuu/09/cartpole.gif)\n",
        "\n",
        "## GymのCartPoleのルールは？\n",
        "### 開始状態\n",
        "±5度以下に傾いた状態からスタートする\n",
        "### CartPoleの終了条件\n",
        "- ポールの角度が±12度以上傾く。\n",
        "- 土台が画面外に出る\n",
        "- 一定の時間(10秒)を超える。\n",
        "### クリア条件\n",
        "- 10秒以上倒れないこと\n",
        "\n",
        "### 得られる情報　\n",
        "- 台車の速度やポールの角度の情報\n",
        "- 報酬　倒れていないと１　倒れると０\n",
        "\n",
        "### 行える動作\n",
        " - 台車を右に押すか左に押すか\n",
        "\n",
        "## 参考資料\n",
        "[1]https://book.mynavi.jp/manatee/detail/id=88961#:~:text=%E5%80%92%E7%AB%8B%E6%8C%AF%E5%AD%90%E8%AA%B2%E9%A1%8CCartPole%E3%81%A8%E3%81%AF&text=%E5%80%92%E7%AB%8B%E6%8C%AF%E5%AD%90%E8%AA%B2%E9%A1%8C%E3%81%A8%E3%81%AF,%E3%81%BE%E3%81%A3%E3%81%9F%E3%81%8F%E5%90%8C%E3%81%98%E3%81%AB%E3%81%AA%E3%82%8A%E3%81%BE%E3%81%99%E3%80%82\n",
        "\n",
        "\n"
      ]
    },
    {
      "cell_type": "markdown",
      "metadata": {
        "id": "l_U317wqzroW"
      },
      "source": [
        "#PID制御を用いる\n",
        "\n",
        "![](https://image.itmedia.co.jp/mn/articles/1005/21/ay_etr03_siki01.gif)\n",
        "\n",
        "OpenAI GymのCartPoleの場合  \n",
        "それぞれの係数は\n",
        "0.1、0.01、0.5としている。"
      ]
    },
    {
      "cell_type": "code",
      "metadata": {
        "id": "cu06GXfSzImF",
        "cellView": "form",
        "colab": {
          "base_uri": "https://localhost:8080/",
          "height": 438
        },
        "outputId": "cfc845ff-8e69-43a0-a8da-216f7e3374b1"
      },
      "source": [
        "#@title  CartPoleを PID制御で解く\n",
        "import numpy as np\n",
        "import gym\n",
        "\n",
        "def sigmoid(x):\n",
        "    return 1.0 / (1.0 + np.exp(-x))\n",
        "\n",
        "env = wrap_env(gym.make('CartPole-v0'))\n",
        "desired_state = np.array([0, 0, 0, 0])\n",
        "desired_mask = np.array([0, 0, 1, 0])\n",
        "\n",
        "P, I, D = 0.1, 0.01, 0.5\n",
        "\n",
        "for i_episode in range(1):\n",
        "    state = env.reset()\n",
        "    integral = 0\n",
        "    derivative = 0\n",
        "    prev_error = 0\n",
        "    for t in range(500):\n",
        "        env.render()\n",
        "        error = state - desired_state\n",
        "\n",
        "        integral += error\n",
        "        derivative = error - prev_error\n",
        "        prev_error = error\n",
        "\n",
        "        pid = np.dot(P * error + I * integral + D * derivative, desired_mask)\n",
        "        action = sigmoid(pid)\n",
        "        action = np.round(action).astype(np.int32)\n",
        "\n",
        "        state, reward, done, info = env.step(action)\n",
        "        if done:\n",
        "            print(\"Episode finished after {} timesteps\".format(t+1))\n",
        "            break\n",
        "env.close()\n",
        "show_video()"
      ],
      "execution_count": null,
      "outputs": [
        {
          "output_type": "stream",
          "text": [
            "Episode finished after 200 timesteps\n"
          ],
          "name": "stdout"
        },
        {
          "output_type": "display_data",
          "data": {
            "text/html": [
              "<video alt=\"test\" autoplay \n",
              "                 controls style=\"height: 400px;\">\n",
              "                <source src=\"data:video/mp4;base64,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\" type=\"video/mp4\" />\n",
              "             </video>"
            ],
            "text/plain": [
              "<IPython.core.display.HTML object>"
            ]
          },
          "metadata": {
            "tags": []
          }
        }
      ]
    },
    {
      "cell_type": "markdown",
      "metadata": {
        "id": "3LxjX17JIH4p"
      },
      "source": [
        "# 強化学習のDeep Q Networkを使って解く\n",
        "\n",
        "1. ε-greedy法  \n",
        "確率εに従い探索(exploration)と活用(exploitation)を決める方法\n",
        "- 探索はランダムに行動を選択する\n",
        "- 活用は評価値が最大になる行動を選択する (greedy法) \n",
        "\n",
        "greedy法のみを用いると幅広い行動を行うことができず学習が進まなくなるため、ランダムに行動させる。\n",
        "\n",
        "2.Deep Q Network\n",
        "  1. Kerasでモデルを作成する\n",
        "  2. 状態を入力データとして評価値を教師データとしてモデルの学習を進める\n",
        "\n",
        "\n",
        "![](https://i.imgur.com/SIvXJdL.png)\n",
        "\n",
        "\n",
        "\n",
        "![](https://i.imgur.com/npSDWYJ.png)"
      ]
    },
    {
      "cell_type": "code",
      "metadata": {
        "id": "PewNI9Pzg_FU"
      },
      "source": [
        "#@title DQNの学習\n",
        "import gym\n",
        "import random\n",
        "import os\n",
        "import numpy as np\n",
        "from collections import deque\n",
        "from keras.models import Sequential\n",
        "from keras.layers import Dense\n",
        "from keras.optimizers import Adam\n",
        "\n",
        "\n",
        "class Agent():\n",
        "    def __init__(self, state_size, action_size):\n",
        "        self.weight_backup = \"cartpole_weight.h5\"\n",
        "        self.state_size = state_size\n",
        "        self.action_size = action_size\n",
        "        self.memory = deque(maxlen=2000)\n",
        "        self.learning_rate = 0.001\n",
        "        self.gamma = 0.95\n",
        "        self.exploration_rate = 1.0\n",
        "        self.exploration_min = 0.01\n",
        "        self.exploration_decay = 0.995\n",
        "        self.model = self._build_model()\n",
        "\n",
        "    def _build_model(self):\n",
        "        # Neural Net for Deep-Q learning Model\n",
        "        model = Sequential()\n",
        "        model.add(Dense(24, input_dim=self.state_size, activation='relu'))\n",
        "        model.add(Dense(24, activation='relu'))\n",
        "        model.add(Dense(self.action_size, activation='linear'))\n",
        "        model.compile(loss='mse', optimizer=Adam(lr=self.learning_rate))\n",
        "\n",
        "        if os.path.isfile(self.weight_backup):\n",
        "            model.load_weights(self.weight_backup)\n",
        "            self.exploration_rate = self.exploration_min\n",
        "        return model\n",
        "\n",
        "    def save_model(self):\n",
        "        self.model.save(self.weight_backup)\n",
        "\n",
        "    def act(self, state):\n",
        "        if np.random.rand() <= self.exploration_rate:\n",
        "            return random.randrange(self.action_size)\n",
        "        act_values = self.model.predict(state)\n",
        "        return np.argmax(act_values[0])\n",
        "\n",
        "    def remember(self, state, action, reward, next_state, done):\n",
        "        self.memory.append((state, action, reward, next_state, done))\n",
        "\n",
        "    def replay(self, sample_batch_size):\n",
        "        if len(self.memory) < sample_batch_size:\n",
        "            return\n",
        "        sample_batch = random.sample(self.memory, sample_batch_size)\n",
        "        for state, action, reward, next_state, done in sample_batch:\n",
        "            target = reward\n",
        "            if not done:\n",
        "                target = reward + self.gamma * np.amax(self.model.predict(next_state)[0])\n",
        "            target_f = self.model.predict(state)\n",
        "            target_f[0][action] = target\n",
        "            self.model.fit(state, target_f, epochs=1, verbose=0)\n",
        "        if self.exploration_rate > self.exploration_min:\n",
        "            self.exploration_rate *= self.exploration_decay\n",
        "class CartPole:\n",
        "    def __init__(self):\n",
        "        self.sample_batch_size = 32\n",
        "        self.episodes = 1\n",
        "        self.env = wrap_env(gym.make('CartPole-v0'))\n",
        "\n",
        "        self.state_size = self.env.observation_space.shape[0]\n",
        "        self.action_size = self.env.action_space.n\n",
        "        self.agent = Agent(self.state_size, self.action_size)\n",
        "\n",
        "    def run(self):\n",
        "        try:\n",
        "            for index_episode in range(self.episodes):\n",
        "                state = self.env.reset()\n",
        "                state = np.reshape(state, [1, self.state_size])\n",
        "\n",
        "                done = False\n",
        "                index = 0\n",
        "                while not done:\n",
        "                    #self.env.render()\n",
        "\n",
        "                    action = self.agent.act(state)\n",
        "\n",
        "                    next_state, reward, done, _ = self.env.step(action)\n",
        "                    next_state = np.reshape(next_state, [1, self.state_size])\n",
        "                    self.agent.remember(state, action, reward, next_state, done)\n",
        "                    state = next_state\n",
        "                    index += 1\n",
        "                print(\"Episode {}# Score: {}\".format(index_episode, index + 1))\n",
        "                self.agent.replay(self.sample_batch_size)\n",
        "        finally:\n",
        "            self.agent.save_model()\n",
        "cartpole = CartPole()\n",
        "cartpole.run()\n"
      ],
      "execution_count": null,
      "outputs": []
    },
    {
      "cell_type": "code",
      "metadata": {
        "id": "yMAbjRl3hSlc",
        "cellView": "form",
        "colab": {
          "base_uri": "https://localhost:8080/",
          "height": 421
        },
        "outputId": "2b0816c4-acf6-4548-d716-9ce2faeeb97e"
      },
      "source": [
        "#@title 学習済みモデルを用いてCartPoleを動かしてみる！\n",
        "NAME = \"CartPole-v0\"\n",
        "env = wrap_env(gym.make(NAME))\n",
        "state_size = env.observation_space.shape[0]\n",
        "action_size = env.action_space.n\n",
        "state = env.reset()\n",
        "state = np.reshape(state, [1, state_size])\n",
        "agent = Agent(state_size, action_size)\n",
        "while True:\n",
        "    env.render()\n",
        "    action = agent.act(state)\n",
        "    observation, reward, done, info = env.step(action)\n",
        "    observation = np.reshape(observation, [1, state_size]) \n",
        "    state = observation\n",
        "    if done: \n",
        "      break;\n",
        "env.close()\n",
        "show_video()"
      ],
      "execution_count": null,
      "outputs": [
        {
          "output_type": "display_data",
          "data": {
            "text/html": [
              "<video alt=\"test\" autoplay \n",
              "                 controls style=\"height: 400px;\">\n",
              "                <source src=\"data:video/mp4;base64,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\" type=\"video/mp4\" />\n",
              "             </video>"
            ],
            "text/plain": [
              "<IPython.core.display.HTML object>"
            ]
          },
          "metadata": {
            "tags": []
          }
        }
      ]
    }
  ]
}